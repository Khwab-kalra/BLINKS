{
 "cells": [
  {
   "cell_type": "markdown",
   "metadata": {},
   "source": [
    "# BLINKS\n",
    "\n",
    "#### Using HaarCascade technique of OpenCV to detect Blinking of eye to generate a Morse Code, which in turn is converted into Voice.\n",
    "#### Data set used is the default data set Provided by OpenCV"
   ]
  },
  {
   "cell_type": "markdown",
   "metadata": {},
   "source": [
    "#### Importing required Libraries"
   ]
  },
  {
   "cell_type": "code",
   "execution_count": null,
   "metadata": {},
   "outputs": [],
   "source": [
    "import cv2\n",
    "import numpy"
   ]
  },
  {
   "cell_type": "markdown",
   "metadata": {},
   "source": [
    "#### Defining the Global variables"
   ]
  },
  {
   "cell_type": "code",
   "execution_count": null,
   "metadata": {},
   "outputs": [],
   "source": [
    "l_eye_cascade = cv2.CascadeClassifier('haarcascades/haarcascade_lefteye_2splits.xml')\n",
    "r_eye_cascade = cv2.CascadeClassifier('haarcascades/haarcascade_righteye_2splits.xml')\n",
    "eye_cascade = cv2.CascadeClassifier('haarcascades/haarcascade_eye.xml')\n",
    "cap = cv2.VideoCapture(0)\n",
    "\n",
    "counter = 0\n",
    "frame2 = \"\"\n",
    "scale = 1.2\n",
    "minSize = (2,2)\n",
    "padding = (10,10)\n",
    "minNeighbours = 5\n",
    "left_eye_found = False\n",
    "right_eye_found = False\n",
    "sequence = list()\n",
    "seq = list()"
   ]
  },
  {
   "cell_type": "markdown",
   "metadata": {},
   "source": [
    "# Efficiency of Left eye detection is low, other states are working perfectly"
   ]
  },
  {
   "cell_type": "markdown",
   "metadata": {},
   "source": [
    "#### Functon to detect both eyes in the face"
   ]
  },
  {
   "cell_type": "code",
   "execution_count": null,
   "metadata": {},
   "outputs": [],
   "source": [
    "def detect(frame):\n",
    "    global left_eye_found, l_eye_x, l_eye_y, right_eye_found, r_eye_x, r_eye_y, frame2\n",
    "    left_eye = l_eye_cascade.detectMultiScale(frame, scale, minNeighbours)\n",
    "    left_most_eye = ()\n",
    "    biggestArea = 0\n",
    "    counter = 0\n",
    "    left_eye_found = False \n",
    "    \n",
    "    \n",
    "    for (x,y,w,h) in left_eye:\n",
    "        left_eye_found=True\n",
    "        tempArea=w*h\n",
    "        \n",
    "        if counter==0:\n",
    "            left_most_eye=(x,y,w,h)\n",
    "            biggestArea=tempArea\n",
    "            \n",
    "        elif x>left_most_eye[0]:\n",
    "            left_most_eye=(x,y,w,h)\n",
    "            biggestArea=tempArea\n",
    "            \n",
    "        counter=counter+1\n",
    "    \n",
    "    if left_eye_found == True:\n",
    "        x,y,w,h=left_most_eye\n",
    "        cv2.rectangle(frame_eye, (x,y),(x+w,y+h),(0,255,0),1)\n",
    "        l_eye_x=x\n",
    "        l_eye_y=y\n",
    "        \n",
    "    \n",
    "    \n",
    "    right_eye = r_eye_cascade.detectMultiScale(frame, scale, minNeighbours)\n",
    "    right_most_eye = ()\n",
    "    biggestArea = 0\n",
    "    counter = 0\n",
    "    right_eye_found = False\n",
    "    \n",
    "    \n",
    "    for (x,y,w,h) in right_eye:\n",
    "        right_eye_found=True\n",
    "        tempArea=w*h\n",
    "        \n",
    "        if counter==0:\n",
    "            right_most_eye=(x,y,w,h)\n",
    "            biggestArea=tempArea\n",
    "            \n",
    "        elif x>right_most_eye[0]:\n",
    "            right_most_eye=(x,y,w,h)\n",
    "            biggestArea=tempArea\n",
    "            \n",
    "        counter=counter+1\n",
    "    \n",
    "    if right_eye_found == True:\n",
    "        x,y,w,h=right_most_eye\n",
    "        cv2.rectangle(frame_eye, (x,y),(x+w,y+h),(0,0,255),1)\n",
    "        r_eye_x=x\n",
    "        r_eye_y=y\n",
    "\n",
    "    return None\n"
   ]
  },
  {
   "cell_type": "markdown",
   "metadata": {},
   "source": [
    "#### Function to detect open/closed states of each eye individually"
   ]
  },
  {
   "cell_type": "code",
   "execution_count": null,
   "metadata": {},
   "outputs": [],
   "source": [
    "#Function to detect blinking\n",
    "def detect_individual_eye(frame_for_detection):\n",
    "\n",
    "    \n",
    "    global l_eye_found,r_eye_found,l_eye_x,l_eye_y,r_eye_x,r_eye_y,l_eye_blink_state,r_eye_blink_state,scale,frame2\n",
    "    \n",
    "    l_eye_blink_state='closed'\n",
    "    r_eye_blink_state='closed'\n",
    "    \n",
    "    eyes_rects = eye_cascade.detectMultiScale(frame_for_detection,scale,minNeighbours)\n",
    "    \n",
    "    counter=0\n",
    "    for (x,y,w,h) in eyes_rects:\n",
    "        if counter>=2:\n",
    "            break\n",
    "        cv2.rectangle(frame_eye,(x,y),(x+w,y+h),(255,255,255),1)\n",
    "        \n",
    "        if left_eye_found == True and abs(l_eye_x-x)<frame_x*.05 and abs(l_eye_y-y)<frame_y*.05:\n",
    "            l_eye_blink_state='open'\n",
    "        elif right_eye_found == True and abs(r_eye_x-x)<frame_x*.05 and abs(r_eye_y-y)<frame_y*.05 :\n",
    "            r_eye_blink_state='open'\n",
    "        counter=counter+1\n",
    "        \n",
    "    return None"
   ]
  },
  {
   "cell_type": "markdown",
   "metadata": {},
   "source": [
    "#### Function to Generate Morse code from Blink State "
   ]
  },
  {
   "cell_type": "code",
   "execution_count": null,
   "metadata": {},
   "outputs": [],
   "source": [
    "def Morse_code():\n",
    "    if l_eye_blink_state == \"closed\" and r_eye_blink_state == \"open\":\n",
    "        return \".\"\n",
    "    elif r_eye_blink_state == \"closed\" and l_eye_blink_state == \"open\":\n",
    "        return \"_\"\n",
    "    elif r_eye_blink_state == \"closed\" and l_eye_blink_state == \"closed\":\n",
    "        return \"*\""
   ]
  },
  {
   "cell_type": "markdown",
   "metadata": {},
   "source": [
    "#### Function to generate voice"
   ]
  },
  {
   "cell_type": "code",
   "execution_count": null,
   "metadata": {},
   "outputs": [],
   "source": [
    "def Voice():\n",
    "    pass"
   ]
  },
  {
   "cell_type": "markdown",
   "metadata": {},
   "source": [
    "#### Main Body of the Code to handle networking of functions"
   ]
  },
  {
   "cell_type": "code",
   "execution_count": null,
   "metadata": {
    "scrolled": false
   },
   "outputs": [],
   "source": [
    "   \n",
    "while True:\n",
    "    temp_state = \"\"\n",
    "    _,frame = cap.read()\n",
    "    frame = cv2.resize(frame,(320,240))\n",
    "    if counter == 0:\n",
    "        frame_x = frame.shape[1]\n",
    "        frame_y = frame.shape[0]\n",
    "        \n",
    "    frame_eye = frame.copy()\n",
    "    detect(frame)\n",
    "    detect_individual_eye(frame)\n",
    "    cv2.imshow(\"Blinks\",frame_eye)\n",
    "    print(f\"({l_eye_blink_state},{r_eye_blink_state})\")\n",
    "    \n",
    "    temp = Morse_code()\n",
    "    if temp == \"*\":\n",
    "        seq = []\n",
    "    elif temp == \".\" or temp == \"_\":\n",
    "        seq.append(temp)\n",
    "    Voice(seq)   \n",
    "    k = cv2.waitKey(1)\n",
    "    if k == \"s\":\n",
    "        break\n",
    "        \n",
    "cap.release()\n",
    "cv2.deleteAllWindows()\n",
    "\n",
    "    "
   ]
  }
 ],
 "metadata": {
  "kernelspec": {
   "display_name": "Python 3",
   "language": "python",
   "name": "python3"
  },
  "language_info": {
   "codemirror_mode": {
    "name": "ipython",
    "version": 3
   },
   "file_extension": ".py",
   "mimetype": "text/x-python",
   "name": "python",
   "nbconvert_exporter": "python",
   "pygments_lexer": "ipython3",
   "version": "3.6.6"
  }
 },
 "nbformat": 4,
 "nbformat_minor": 2
}
