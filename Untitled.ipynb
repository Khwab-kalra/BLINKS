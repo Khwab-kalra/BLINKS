{
 "cells": [
  {
   "cell_type": "markdown",
   "metadata": {},
   "source": [
    "# BLINKS\n",
    "\n",
    "#### Using HaarCascade technique of OpenCV to detect Blinking of eye to generate a Morse Code, which in turn is converted into Voice.\n",
    "#### Data set used is the default data set Provided by OpenCV"
   ]
  },
  {
   "cell_type": "markdown",
   "metadata": {},
   "source": [
    "#### Importing required Libraries"
   ]
  },
  {
   "cell_type": "code",
   "execution_count": null,
   "metadata": {},
   "outputs": [],
   "source": [
    "import cv2\n",
    "import numpy\n",
    "import time"
   ]
  },
  {
   "cell_type": "markdown",
   "metadata": {},
   "source": [
    "#### Defining the Global variables"
   ]
  },
  {
   "cell_type": "code",
   "execution_count": null,
   "metadata": {},
   "outputs": [],
   "source": [
    "#dataset provided by OpenCV\n",
    "l_eye_cascade = cv2.CascadeClassifier('haarcascades/haarcascade_lefteye_2splits.xml')\n",
    "r_eye_cascade = cv2.CascadeClassifier('haarcascades/haarcascade_righteye_2splits.xml')\n",
    "eye_cascade = cv2.CascadeClassifier('haarcascades/haarcascade_eye.xml')\n",
    "#Command to use In-Built Webcam of your Laptop\n",
    "cap = cv2.VideoCapture(0)\n",
    "#Un-comment this part to use mobile phone's camera to take input\n",
    "#address = \"your IP address/video\"\n",
    "#cap.open(address)\n",
    "\n",
    "counter = 0\n",
    "scale = 1.2\n",
    "minSize = (1.5,1.5)\n",
    "minNeighbours = 20\n",
    "left_eye_found = False\n",
    "right_eye_found = False\n",
    "cmd_count = 0\n",
    "joint_seq = \"\"\n",
    "state_on = False"
   ]
  },
  {
   "cell_type": "markdown",
   "metadata": {},
   "source": [
    "#### Functon to detect eyes in the face"
   ]
  },
  {
   "cell_type": "code",
   "execution_count": null,
   "metadata": {},
   "outputs": [],
   "source": [
    "def detect(frame_eye):\n",
    "    global left_eye_found, l_eye_x, l_eye_y, right_eye_found, r_eye_x, r_eye_y\n",
    "    left_eye = l_eye_cascade.detectMultiScale(frame_eye, 1.1, minNeighbours)\n",
    "    left_most_eye = ()\n",
    "    biggestArea = 0\n",
    "    counter = 0\n",
    "    left_eye_found = False \n",
    "    \n",
    "    \n",
    "    for (x,y,w,h) in left_eye:\n",
    "        left_eye_found=True\n",
    "        tempArea=w*h\n",
    "        \n",
    "        if counter==0:\n",
    "            left_most_eye=(x,y,w,h)\n",
    "            biggestArea=tempArea\n",
    "            \n",
    "        elif x>left_most_eye[0]:\n",
    "            left_most_eye=(x,y,w,h)\n",
    "            biggestArea=tempArea\n",
    "            \n",
    "        counter=counter+1\n",
    "    \n",
    "    if left_eye_found == True:\n",
    "        x,y,w,h=left_most_eye\n",
    "        cv2.rectangle(frame, (x,y),(x+w,y+h),(0,255,0),1)\n",
    "        l_eye_x=x\n",
    "        l_eye_y=y\n",
    "        \n",
    "        \n",
    "    right_eye = r_eye_cascade.detectMultiScale(frame_eye, 1.1, minNeighbours)\n",
    "    right_most_eye = ()\n",
    "    biggestArea = 0\n",
    "    counter = 0\n",
    "    right_eye_found = False\n",
    "    \n",
    "    \n",
    "    for (x,y,w,h) in right_eye:\n",
    "        right_eye_found=True\n",
    "        tempArea=w*h\n",
    "        \n",
    "        if counter==0:\n",
    "            right_most_eye=(x,y,w,h)\n",
    "            biggestArea=tempArea\n",
    "            \n",
    "        elif x>right_most_eye[0]:\n",
    "            right_most_eye=(x,y,w,h)\n",
    "            biggestArea=tempArea\n",
    "            \n",
    "        counter=counter+1\n",
    "    \n",
    "    if right_eye_found == True:\n",
    "        x,y,w,h=right_most_eye\n",
    "        cv2.rectangle(frame, (x,y),(x+w,y+h),(0,0,255),1)\n",
    "        r_eye_x=x\n",
    "        r_eye_y=y\n",
    "\n",
    "    return None\n"
   ]
  },
  {
   "cell_type": "markdown",
   "metadata": {},
   "source": [
    "#### Function to detect open/closed states of eyes"
   ]
  },
  {
   "cell_type": "code",
   "execution_count": null,
   "metadata": {},
   "outputs": [],
   "source": [
    "def detect_individual_eye(frame_for_detection):\n",
    "\n",
    "    \n",
    "    global l_eye_found,r_eye_found,l_eye_x,l_eye_y,r_eye_x,r_eye_y,l_eye_blink_state,r_eye_blink_state,scale\n",
    "    \n",
    "    l_eye_blink_state='closed'\n",
    "    r_eye_blink_state='closed'\n",
    "    \n",
    "    eyes_rects = eye_cascade.detectMultiScale(frame_for_detection,scale,minNeighbours)\n",
    "    \n",
    "    counter=0\n",
    "    for (x,y,w,h) in eyes_rects:\n",
    "        if counter>=2:\n",
    "            break\n",
    "        cv2.rectangle(frame,(x,y),(x+w,y+h),(255,255,255),1)\n",
    "        \n",
    "        if left_eye_found == True and abs(l_eye_x-x)<frame_x*.05 and abs(l_eye_y-y)<frame_y*.05:\n",
    "            l_eye_blink_state='open'\n",
    "        elif right_eye_found == True and abs(r_eye_x-x)<frame_x*.05 and abs(r_eye_y-y)<frame_y*.05 :\n",
    "            r_eye_blink_state='open'\n",
    "        counter=counter+1\n",
    "        \n",
    "    return None\n"
   ]
  },
  {
   "cell_type": "markdown",
   "metadata": {},
   "source": [
    "#### Function to Generate Morse code from Blink State "
   ]
  },
  {
   "cell_type": "code",
   "execution_count": null,
   "metadata": {},
   "outputs": [],
   "source": [
    "def Morse_code():\n",
    "    if l_eye_blink_state == \"closed\" and r_eye_blink_state == \"open\":\n",
    "        return \".\"\n",
    "    elif r_eye_blink_state == \"closed\" and l_eye_blink_state == \"open\":\n",
    "        return \"_\"\n",
    "    elif r_eye_blink_state == \"closed\" and l_eye_blink_state == \"closed\":\n",
    "        return \"*\"\n",
    "    "
   ]
  },
  {
   "cell_type": "markdown",
   "metadata": {},
   "source": [
    "#### Function to generate voice"
   ]
  },
  {
   "cell_type": "code",
   "execution_count": null,
   "metadata": {},
   "outputs": [],
   "source": [
    "def Voice(joint) :\n",
    "    \n",
    "        global cmd_count, state_on\n",
    "\n",
    "        list = [\".\", \"_\", \"..\", \"._\", \"_.\", \"__\", \"...\", \"___\"]\n",
    "        from gtts import gTTS\n",
    "        import os\n",
    "        if joint == list[0]:\n",
    "            if state_on :\n",
    "                mytext = \"Yes\"\n",
    "            else:\n",
    "                mytext = \"Initializing Command\"\n",
    "                state_on = True\n",
    "    \n",
    "        elif joint == list[1]:\n",
    "            mytext = \"Terminating the Processes\"\n",
    "            state_on = False\n",
    "        \n",
    "        elif joint == list[2]:\n",
    "            mytext = \"Feeling pretty thirsty, please bring a glass of water\"\n",
    "    \n",
    "        elif joint == list[3]:\n",
    "            mytext = \"I am hungry, please bring something to eat\"\n",
    "\n",
    "        elif joint == list[4]:\n",
    "            mytext = \"Its urgent, please walk me through the toilet \"\n",
    "    \n",
    "        elif joint == list[5]:\n",
    "            mytext = \"Help, Emergency, Help\"\n",
    "    \n",
    "        elif joint == list[6]:\n",
    "            mytext = \"Please switch on/Off  the room lights\"\n",
    "        elif joint == list[7]:\n",
    "            mytext = \"Please Help me to take a bath\"\n",
    "        else:\n",
    "            mytext = \"Error occured re-enter the command\"\n",
    "\n",
    "        \n",
    "        if state_on:\n",
    "            \n",
    "            language = 'en'\n",
    "        \n",
    "            myobj = gTTS(text=mytext, lang=language, slow=False)\n",
    "            myobj.save(\"voices.mp3\")\n",
    "            os.system(\"voices.mp3\")\n",
    "            time.sleep(5)\n",
    "        if not state_on:\n",
    "            cmd_count = 0\n",
    "            \n",
    "    \n"
   ]
  },
  {
   "cell_type": "markdown",
   "metadata": {},
   "source": [
    "#### Main Body of the Code to handle networking of functions"
   ]
  },
  {
   "cell_type": "code",
   "execution_count": null,
   "metadata": {
    "scrolled": false
   },
   "outputs": [],
   "source": [
    "while True:\n",
    "    global cmd_count, counter \n",
    "    _,frame = cap.read()\n",
    "    frame = cv2.resize(frame,(320,240))\n",
    "    if counter == 0:\n",
    "        frame_x = frame.shape[1]\n",
    "        frame_y = frame.shape[0]\n",
    "        \n",
    "    frame_eye = cv2.cvtColor(frame.copy(), cv2.COLOR_BGR2GRAY)\n",
    "    detect(frame_eye)\n",
    "    detect_individual_eye(frame_eye)\n",
    "    #Un-comment To see the camera output\n",
    "    cv2.imshow(\"Blinks\",frame)\n",
    "    \n",
    "    temp = Morse_code()\n",
    "    if cmd_count == 0:\n",
    "         if temp == \"*\":\n",
    "            joint_seq = \"\"\n",
    "            cmd_count += 1\n",
    "    elif cmd_count > 0:\n",
    "        if temp == \"*\":\n",
    "            Voice(joint_seq)\n",
    "            joint_seq = \"\"\n",
    "        elif temp == \".\" or temp == \"_\":\n",
    "           #Joining all the appended elements together \n",
    "            joint_seq += temp\n",
    "    \n",
    "    \n",
    "    k = cv2.waitKey(1)\n",
    "    if k == \"s\":\n",
    "        break\n",
    "    time.sleep(2)\n",
    "        \n",
    "time.sleep(5)\n",
    "cap.release()\n",
    "cv2.deleteAllWindows()"
   ]
  }
 ],
 "metadata": {
  "kernelspec": {
   "display_name": "Python 3",
   "language": "python",
   "name": "python3"
  },
  "language_info": {
   "codemirror_mode": {
    "name": "ipython",
    "version": 3
   },
   "file_extension": ".py",
   "mimetype": "text/x-python",
   "name": "python",
   "nbconvert_exporter": "python",
   "pygments_lexer": "ipython3",
   "version": "3.6.6"
  }
 },
 "nbformat": 4,
 "nbformat_minor": 2
}
